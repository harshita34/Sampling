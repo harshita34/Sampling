{
 "cells": [
  {
   "cell_type": "markdown",
   "id": "f27b12c4",
   "metadata": {},
   "source": [
    "# Sampling Assignment\n",
    "### Name: Harshita Pandey\n",
    "### Roll No: 102003235\n",
    "### Group No: CO10\n"
   ]
  },
  {
   "cell_type": "markdown",
   "id": "e657f796",
   "metadata": {},
   "source": [
    "## Importing the dataset"
   ]
  },
  {
   "cell_type": "code",
   "execution_count": 30,
   "id": "98325e2f",
   "metadata": {},
   "outputs": [],
   "source": [
    "import numpy as np\n",
    "import pandas as pd\n",
    "from sklearn.model_selection import train_test_split"
   ]
  },
  {
   "cell_type": "code",
   "execution_count": 21,
   "id": "c6abe52c",
   "metadata": {},
   "outputs": [],
   "source": [
    "df = pd.read_csv('Creditcard_data.csv')"
   ]
  },
  {
   "cell_type": "code",
   "execution_count": 22,
   "id": "e9828e96",
   "metadata": {},
   "outputs": [
    {
     "data": {
      "text/html": [
       "<div>\n",
       "<style scoped>\n",
       "    .dataframe tbody tr th:only-of-type {\n",
       "        vertical-align: middle;\n",
       "    }\n",
       "\n",
       "    .dataframe tbody tr th {\n",
       "        vertical-align: top;\n",
       "    }\n",
       "\n",
       "    .dataframe thead th {\n",
       "        text-align: right;\n",
       "    }\n",
       "</style>\n",
       "<table border=\"1\" class=\"dataframe\">\n",
       "  <thead>\n",
       "    <tr style=\"text-align: right;\">\n",
       "      <th></th>\n",
       "      <th>Time</th>\n",
       "      <th>V1</th>\n",
       "      <th>V2</th>\n",
       "      <th>V3</th>\n",
       "      <th>V4</th>\n",
       "      <th>V5</th>\n",
       "      <th>V6</th>\n",
       "      <th>V7</th>\n",
       "      <th>V8</th>\n",
       "      <th>V9</th>\n",
       "      <th>...</th>\n",
       "      <th>V21</th>\n",
       "      <th>V22</th>\n",
       "      <th>V23</th>\n",
       "      <th>V24</th>\n",
       "      <th>V25</th>\n",
       "      <th>V26</th>\n",
       "      <th>V27</th>\n",
       "      <th>V28</th>\n",
       "      <th>Amount</th>\n",
       "      <th>Class</th>\n",
       "    </tr>\n",
       "  </thead>\n",
       "  <tbody>\n",
       "    <tr>\n",
       "      <th>0</th>\n",
       "      <td>0</td>\n",
       "      <td>-1.359807</td>\n",
       "      <td>-0.072781</td>\n",
       "      <td>2.536347</td>\n",
       "      <td>1.378155</td>\n",
       "      <td>-0.338321</td>\n",
       "      <td>0.462388</td>\n",
       "      <td>0.239599</td>\n",
       "      <td>0.098698</td>\n",
       "      <td>0.363787</td>\n",
       "      <td>...</td>\n",
       "      <td>-0.018307</td>\n",
       "      <td>0.277838</td>\n",
       "      <td>-0.110474</td>\n",
       "      <td>0.066928</td>\n",
       "      <td>0.128539</td>\n",
       "      <td>-0.189115</td>\n",
       "      <td>0.133558</td>\n",
       "      <td>-0.021053</td>\n",
       "      <td>149.62</td>\n",
       "      <td>0</td>\n",
       "    </tr>\n",
       "    <tr>\n",
       "      <th>1</th>\n",
       "      <td>0</td>\n",
       "      <td>1.191857</td>\n",
       "      <td>0.266151</td>\n",
       "      <td>0.166480</td>\n",
       "      <td>0.448154</td>\n",
       "      <td>0.060018</td>\n",
       "      <td>-0.082361</td>\n",
       "      <td>-0.078803</td>\n",
       "      <td>0.085102</td>\n",
       "      <td>-0.255425</td>\n",
       "      <td>...</td>\n",
       "      <td>-0.225775</td>\n",
       "      <td>-0.638672</td>\n",
       "      <td>0.101288</td>\n",
       "      <td>-0.339846</td>\n",
       "      <td>0.167170</td>\n",
       "      <td>0.125895</td>\n",
       "      <td>-0.008983</td>\n",
       "      <td>0.014724</td>\n",
       "      <td>2.69</td>\n",
       "      <td>1</td>\n",
       "    </tr>\n",
       "    <tr>\n",
       "      <th>2</th>\n",
       "      <td>1</td>\n",
       "      <td>-1.358354</td>\n",
       "      <td>-1.340163</td>\n",
       "      <td>1.773209</td>\n",
       "      <td>0.379780</td>\n",
       "      <td>-0.503198</td>\n",
       "      <td>1.800499</td>\n",
       "      <td>0.791461</td>\n",
       "      <td>0.247676</td>\n",
       "      <td>-1.514654</td>\n",
       "      <td>...</td>\n",
       "      <td>0.247998</td>\n",
       "      <td>0.771679</td>\n",
       "      <td>0.909412</td>\n",
       "      <td>-0.689281</td>\n",
       "      <td>-0.327642</td>\n",
       "      <td>-0.139097</td>\n",
       "      <td>-0.055353</td>\n",
       "      <td>-0.059752</td>\n",
       "      <td>378.66</td>\n",
       "      <td>0</td>\n",
       "    </tr>\n",
       "    <tr>\n",
       "      <th>3</th>\n",
       "      <td>1</td>\n",
       "      <td>-0.966272</td>\n",
       "      <td>-0.185226</td>\n",
       "      <td>1.792993</td>\n",
       "      <td>-0.863291</td>\n",
       "      <td>-0.010309</td>\n",
       "      <td>1.247203</td>\n",
       "      <td>0.237609</td>\n",
       "      <td>0.377436</td>\n",
       "      <td>-1.387024</td>\n",
       "      <td>...</td>\n",
       "      <td>-0.108300</td>\n",
       "      <td>0.005274</td>\n",
       "      <td>-0.190321</td>\n",
       "      <td>-1.175575</td>\n",
       "      <td>0.647376</td>\n",
       "      <td>-0.221929</td>\n",
       "      <td>0.062723</td>\n",
       "      <td>0.061458</td>\n",
       "      <td>123.50</td>\n",
       "      <td>0</td>\n",
       "    </tr>\n",
       "    <tr>\n",
       "      <th>4</th>\n",
       "      <td>2</td>\n",
       "      <td>-1.158233</td>\n",
       "      <td>0.877737</td>\n",
       "      <td>1.548718</td>\n",
       "      <td>0.403034</td>\n",
       "      <td>-0.407193</td>\n",
       "      <td>0.095921</td>\n",
       "      <td>0.592941</td>\n",
       "      <td>-0.270533</td>\n",
       "      <td>0.817739</td>\n",
       "      <td>...</td>\n",
       "      <td>-0.009431</td>\n",
       "      <td>0.798278</td>\n",
       "      <td>-0.137458</td>\n",
       "      <td>0.141267</td>\n",
       "      <td>-0.206010</td>\n",
       "      <td>0.502292</td>\n",
       "      <td>0.219422</td>\n",
       "      <td>0.215153</td>\n",
       "      <td>69.99</td>\n",
       "      <td>0</td>\n",
       "    </tr>\n",
       "  </tbody>\n",
       "</table>\n",
       "<p>5 rows × 31 columns</p>\n",
       "</div>"
      ],
      "text/plain": [
       "   Time        V1        V2        V3        V4        V5        V6        V7  \\\n",
       "0     0 -1.359807 -0.072781  2.536347  1.378155 -0.338321  0.462388  0.239599   \n",
       "1     0  1.191857  0.266151  0.166480  0.448154  0.060018 -0.082361 -0.078803   \n",
       "2     1 -1.358354 -1.340163  1.773209  0.379780 -0.503198  1.800499  0.791461   \n",
       "3     1 -0.966272 -0.185226  1.792993 -0.863291 -0.010309  1.247203  0.237609   \n",
       "4     2 -1.158233  0.877737  1.548718  0.403034 -0.407193  0.095921  0.592941   \n",
       "\n",
       "         V8        V9  ...       V21       V22       V23       V24       V25  \\\n",
       "0  0.098698  0.363787  ... -0.018307  0.277838 -0.110474  0.066928  0.128539   \n",
       "1  0.085102 -0.255425  ... -0.225775 -0.638672  0.101288 -0.339846  0.167170   \n",
       "2  0.247676 -1.514654  ...  0.247998  0.771679  0.909412 -0.689281 -0.327642   \n",
       "3  0.377436 -1.387024  ... -0.108300  0.005274 -0.190321 -1.175575  0.647376   \n",
       "4 -0.270533  0.817739  ... -0.009431  0.798278 -0.137458  0.141267 -0.206010   \n",
       "\n",
       "        V26       V27       V28  Amount  Class  \n",
       "0 -0.189115  0.133558 -0.021053  149.62      0  \n",
       "1  0.125895 -0.008983  0.014724    2.69      1  \n",
       "2 -0.139097 -0.055353 -0.059752  378.66      0  \n",
       "3 -0.221929  0.062723  0.061458  123.50      0  \n",
       "4  0.502292  0.219422  0.215153   69.99      0  \n",
       "\n",
       "[5 rows x 31 columns]"
      ]
     },
     "execution_count": 22,
     "metadata": {},
     "output_type": "execute_result"
    }
   ],
   "source": [
    "df.head()"
   ]
  },
  {
   "cell_type": "code",
   "execution_count": 23,
   "id": "d8a9f8d6",
   "metadata": {},
   "outputs": [
    {
     "data": {
      "text/plain": [
       "(772, 31)"
      ]
     },
     "execution_count": 23,
     "metadata": {},
     "output_type": "execute_result"
    }
   ],
   "source": [
    "df.shape"
   ]
  },
  {
   "cell_type": "code",
   "execution_count": 24,
   "id": "7d26b8f5",
   "metadata": {},
   "outputs": [
    {
     "name": "stdout",
     "output_type": "stream",
     "text": [
      "0    0.988342\n",
      "1    0.011658\n",
      "Name: Class, dtype: float64\n",
      "0    98.834197\n",
      "1     1.165803\n",
      "Name: Class, dtype: float64\n"
     ]
    }
   ],
   "source": [
    "freq = df[\"Class\"].value_counts(normalize=True)\n",
    "print(freq)\n",
    "print(freq*100)"
   ]
  },
  {
   "cell_type": "markdown",
   "id": "afb92245",
   "metadata": {},
   "source": [
    "The given dataset is highly imbalanced. From the above calculations, we find out that the data is 98.83% imabalanced."
   ]
  },
  {
   "cell_type": "markdown",
   "id": "da55fe84",
   "metadata": {},
   "source": [
    "Since the dataset is highly imabalanced, we use the SMOTE or the Synthetic Minority Oversampling Technique"
   ]
  },
  {
   "cell_type": "code",
   "execution_count": 25,
   "id": "1ee3ff14",
   "metadata": {},
   "outputs": [
    {
     "name": "stdout",
     "output_type": "stream",
     "text": [
      "Requirement already satisfied: imblearn in /Users/harshitapandey/opt/anaconda3/lib/python3.9/site-packages (0.0)\n",
      "Requirement already satisfied: imbalanced-learn in /Users/harshitapandey/opt/anaconda3/lib/python3.9/site-packages (from imblearn) (0.10.1)\n",
      "Requirement already satisfied: numpy>=1.17.3 in /Users/harshitapandey/opt/anaconda3/lib/python3.9/site-packages (from imbalanced-learn->imblearn) (1.21.5)\n",
      "Requirement already satisfied: scikit-learn>=1.0.2 in /Users/harshitapandey/opt/anaconda3/lib/python3.9/site-packages (from imbalanced-learn->imblearn) (1.0.2)\n",
      "Requirement already satisfied: scipy>=1.3.2 in /Users/harshitapandey/opt/anaconda3/lib/python3.9/site-packages (from imbalanced-learn->imblearn) (1.7.3)\n",
      "Requirement already satisfied: threadpoolctl>=2.0.0 in /Users/harshitapandey/opt/anaconda3/lib/python3.9/site-packages (from imbalanced-learn->imblearn) (2.2.0)\n",
      "Requirement already satisfied: joblib>=1.1.1 in /Users/harshitapandey/opt/anaconda3/lib/python3.9/site-packages (from imbalanced-learn->imblearn) (1.2.0)\n",
      "Note: you may need to restart the kernel to use updated packages.\n"
     ]
    }
   ],
   "source": [
    "pip install imblearn"
   ]
  },
  {
   "cell_type": "code",
   "execution_count": 26,
   "id": "ddc7043c",
   "metadata": {},
   "outputs": [],
   "source": [
    "from imblearn.over_sampling import SMOTE"
   ]
  },
  {
   "cell_type": "code",
   "execution_count": 61,
   "id": "3abb4e5c",
   "metadata": {},
   "outputs": [],
   "source": [
    "# Separate input features and target variable\n",
    "x = df.drop('Class', axis=1)\n",
    "y = df['Class']"
   ]
  },
  {
   "cell_type": "code",
   "execution_count": 62,
   "id": "2f9a68ee",
   "metadata": {},
   "outputs": [],
   "source": [
    "# Split dataset into training and testing sets\n",
    "x_train, x_test, y_train, y_test = train_test_split(x, y, test_size=0.3, random_state=42)"
   ]
  },
  {
   "cell_type": "code",
   "execution_count": 63,
   "id": "12b71699",
   "metadata": {},
   "outputs": [],
   "source": [
    "# Apply SMOTE to training set only\n",
    "smote = SMOTE(random_state=42)\n",
    "x_train_resampled, y_train_resampled = smote.fit_resample(x_train, y_train)"
   ]
  },
  {
   "cell_type": "code",
   "execution_count": 64,
   "id": "47184b8b",
   "metadata": {},
   "outputs": [],
   "source": [
    "oversample = SMOTE()\n",
    "x, y = oversample.fit_resample(x, y)"
   ]
  },
  {
   "cell_type": "code",
   "execution_count": 65,
   "id": "3937138b",
   "metadata": {},
   "outputs": [
    {
     "data": {
      "text/plain": [
       "0    763\n",
       "1    763\n",
       "Name: Class, dtype: int64"
      ]
     },
     "execution_count": 65,
     "metadata": {},
     "output_type": "execute_result"
    }
   ],
   "source": [
    "y.value_counts()"
   ]
  },
  {
   "cell_type": "code",
   "execution_count": 66,
   "id": "41d39085",
   "metadata": {},
   "outputs": [],
   "source": [
    "x_dummy, x_test, y_dummy, y_test = train_test_split(x, y, test_size=0.33, random_state=42)"
   ]
  },
  {
   "cell_type": "code",
   "execution_count": 67,
   "id": "5d54f29a",
   "metadata": {},
   "outputs": [
    {
     "data": {
      "text/html": [
       "<div>\n",
       "<style scoped>\n",
       "    .dataframe tbody tr th:only-of-type {\n",
       "        vertical-align: middle;\n",
       "    }\n",
       "\n",
       "    .dataframe tbody tr th {\n",
       "        vertical-align: top;\n",
       "    }\n",
       "\n",
       "    .dataframe thead th {\n",
       "        text-align: right;\n",
       "    }\n",
       "</style>\n",
       "<table border=\"1\" class=\"dataframe\">\n",
       "  <thead>\n",
       "    <tr style=\"text-align: right;\">\n",
       "      <th></th>\n",
       "      <th>Time</th>\n",
       "      <th>V1</th>\n",
       "      <th>V2</th>\n",
       "      <th>V3</th>\n",
       "      <th>V4</th>\n",
       "      <th>V5</th>\n",
       "      <th>V6</th>\n",
       "      <th>V7</th>\n",
       "      <th>V8</th>\n",
       "      <th>V9</th>\n",
       "      <th>...</th>\n",
       "      <th>V21</th>\n",
       "      <th>V22</th>\n",
       "      <th>V23</th>\n",
       "      <th>V24</th>\n",
       "      <th>V25</th>\n",
       "      <th>V26</th>\n",
       "      <th>V27</th>\n",
       "      <th>V28</th>\n",
       "      <th>Amount</th>\n",
       "      <th>Class</th>\n",
       "    </tr>\n",
       "  </thead>\n",
       "  <tbody>\n",
       "    <tr>\n",
       "      <th>0</th>\n",
       "      <td>0</td>\n",
       "      <td>-1.359807</td>\n",
       "      <td>-0.072781</td>\n",
       "      <td>2.536347</td>\n",
       "      <td>1.378155</td>\n",
       "      <td>-0.338321</td>\n",
       "      <td>0.462388</td>\n",
       "      <td>0.239599</td>\n",
       "      <td>0.098698</td>\n",
       "      <td>0.363787</td>\n",
       "      <td>...</td>\n",
       "      <td>-0.018307</td>\n",
       "      <td>0.277838</td>\n",
       "      <td>-0.110474</td>\n",
       "      <td>0.066928</td>\n",
       "      <td>0.128539</td>\n",
       "      <td>-0.189115</td>\n",
       "      <td>0.133558</td>\n",
       "      <td>-0.021053</td>\n",
       "      <td>149.620000</td>\n",
       "      <td>0</td>\n",
       "    </tr>\n",
       "    <tr>\n",
       "      <th>1</th>\n",
       "      <td>0</td>\n",
       "      <td>1.191857</td>\n",
       "      <td>0.266151</td>\n",
       "      <td>0.166480</td>\n",
       "      <td>0.448154</td>\n",
       "      <td>0.060018</td>\n",
       "      <td>-0.082361</td>\n",
       "      <td>-0.078803</td>\n",
       "      <td>0.085102</td>\n",
       "      <td>-0.255425</td>\n",
       "      <td>...</td>\n",
       "      <td>-0.225775</td>\n",
       "      <td>-0.638672</td>\n",
       "      <td>0.101288</td>\n",
       "      <td>-0.339846</td>\n",
       "      <td>0.167170</td>\n",
       "      <td>0.125895</td>\n",
       "      <td>-0.008983</td>\n",
       "      <td>0.014724</td>\n",
       "      <td>2.690000</td>\n",
       "      <td>1</td>\n",
       "    </tr>\n",
       "    <tr>\n",
       "      <th>2</th>\n",
       "      <td>1</td>\n",
       "      <td>-1.358354</td>\n",
       "      <td>-1.340163</td>\n",
       "      <td>1.773209</td>\n",
       "      <td>0.379780</td>\n",
       "      <td>-0.503198</td>\n",
       "      <td>1.800499</td>\n",
       "      <td>0.791461</td>\n",
       "      <td>0.247676</td>\n",
       "      <td>-1.514654</td>\n",
       "      <td>...</td>\n",
       "      <td>0.247998</td>\n",
       "      <td>0.771679</td>\n",
       "      <td>0.909412</td>\n",
       "      <td>-0.689281</td>\n",
       "      <td>-0.327642</td>\n",
       "      <td>-0.139097</td>\n",
       "      <td>-0.055353</td>\n",
       "      <td>-0.059752</td>\n",
       "      <td>378.660000</td>\n",
       "      <td>0</td>\n",
       "    </tr>\n",
       "    <tr>\n",
       "      <th>3</th>\n",
       "      <td>1</td>\n",
       "      <td>-0.966272</td>\n",
       "      <td>-0.185226</td>\n",
       "      <td>1.792993</td>\n",
       "      <td>-0.863291</td>\n",
       "      <td>-0.010309</td>\n",
       "      <td>1.247203</td>\n",
       "      <td>0.237609</td>\n",
       "      <td>0.377436</td>\n",
       "      <td>-1.387024</td>\n",
       "      <td>...</td>\n",
       "      <td>-0.108300</td>\n",
       "      <td>0.005274</td>\n",
       "      <td>-0.190321</td>\n",
       "      <td>-1.175575</td>\n",
       "      <td>0.647376</td>\n",
       "      <td>-0.221929</td>\n",
       "      <td>0.062723</td>\n",
       "      <td>0.061458</td>\n",
       "      <td>123.500000</td>\n",
       "      <td>0</td>\n",
       "    </tr>\n",
       "    <tr>\n",
       "      <th>4</th>\n",
       "      <td>2</td>\n",
       "      <td>-1.158233</td>\n",
       "      <td>0.877737</td>\n",
       "      <td>1.548718</td>\n",
       "      <td>0.403034</td>\n",
       "      <td>-0.407193</td>\n",
       "      <td>0.095921</td>\n",
       "      <td>0.592941</td>\n",
       "      <td>-0.270533</td>\n",
       "      <td>0.817739</td>\n",
       "      <td>...</td>\n",
       "      <td>-0.009431</td>\n",
       "      <td>0.798278</td>\n",
       "      <td>-0.137458</td>\n",
       "      <td>0.141267</td>\n",
       "      <td>-0.206010</td>\n",
       "      <td>0.502292</td>\n",
       "      <td>0.219422</td>\n",
       "      <td>0.215153</td>\n",
       "      <td>69.990000</td>\n",
       "      <td>0</td>\n",
       "    </tr>\n",
       "    <tr>\n",
       "      <th>...</th>\n",
       "      <td>...</td>\n",
       "      <td>...</td>\n",
       "      <td>...</td>\n",
       "      <td>...</td>\n",
       "      <td>...</td>\n",
       "      <td>...</td>\n",
       "      <td>...</td>\n",
       "      <td>...</td>\n",
       "      <td>...</td>\n",
       "      <td>...</td>\n",
       "      <td>...</td>\n",
       "      <td>...</td>\n",
       "      <td>...</td>\n",
       "      <td>...</td>\n",
       "      <td>...</td>\n",
       "      <td>...</td>\n",
       "      <td>...</td>\n",
       "      <td>...</td>\n",
       "      <td>...</td>\n",
       "      <td>...</td>\n",
       "      <td>...</td>\n",
       "    </tr>\n",
       "    <tr>\n",
       "      <th>1521</th>\n",
       "      <td>145</td>\n",
       "      <td>0.312731</td>\n",
       "      <td>-0.494345</td>\n",
       "      <td>0.800036</td>\n",
       "      <td>0.638688</td>\n",
       "      <td>0.721476</td>\n",
       "      <td>0.103967</td>\n",
       "      <td>-0.638202</td>\n",
       "      <td>0.278761</td>\n",
       "      <td>0.078949</td>\n",
       "      <td>...</td>\n",
       "      <td>-0.047267</td>\n",
       "      <td>-0.133609</td>\n",
       "      <td>0.155413</td>\n",
       "      <td>-0.482288</td>\n",
       "      <td>0.060739</td>\n",
       "      <td>0.328332</td>\n",
       "      <td>-0.040828</td>\n",
       "      <td>-0.036437</td>\n",
       "      <td>2.362299</td>\n",
       "      <td>1</td>\n",
       "    </tr>\n",
       "    <tr>\n",
       "      <th>1522</th>\n",
       "      <td>145</td>\n",
       "      <td>0.199690</td>\n",
       "      <td>0.518887</td>\n",
       "      <td>0.419685</td>\n",
       "      <td>0.152560</td>\n",
       "      <td>0.736859</td>\n",
       "      <td>0.213810</td>\n",
       "      <td>0.253991</td>\n",
       "      <td>0.133359</td>\n",
       "      <td>-0.137987</td>\n",
       "      <td>...</td>\n",
       "      <td>-0.139705</td>\n",
       "      <td>-0.410902</td>\n",
       "      <td>0.145401</td>\n",
       "      <td>-1.248407</td>\n",
       "      <td>-1.213475</td>\n",
       "      <td>0.081109</td>\n",
       "      <td>0.204586</td>\n",
       "      <td>0.205860</td>\n",
       "      <td>1.181825</td>\n",
       "      <td>1</td>\n",
       "    </tr>\n",
       "    <tr>\n",
       "      <th>1523</th>\n",
       "      <td>411</td>\n",
       "      <td>-0.700235</td>\n",
       "      <td>0.432964</td>\n",
       "      <td>1.447839</td>\n",
       "      <td>0.167270</td>\n",
       "      <td>0.933755</td>\n",
       "      <td>-0.638823</td>\n",
       "      <td>0.746457</td>\n",
       "      <td>-0.089232</td>\n",
       "      <td>-0.137780</td>\n",
       "      <td>...</td>\n",
       "      <td>0.021967</td>\n",
       "      <td>0.130480</td>\n",
       "      <td>-0.164927</td>\n",
       "      <td>-0.012580</td>\n",
       "      <td>-0.013863</td>\n",
       "      <td>-0.333450</td>\n",
       "      <td>-0.027966</td>\n",
       "      <td>-0.044793</td>\n",
       "      <td>0.997725</td>\n",
       "      <td>1</td>\n",
       "    </tr>\n",
       "    <tr>\n",
       "      <th>1524</th>\n",
       "      <td>483</td>\n",
       "      <td>-1.977535</td>\n",
       "      <td>0.843877</td>\n",
       "      <td>0.022000</td>\n",
       "      <td>1.282213</td>\n",
       "      <td>0.319618</td>\n",
       "      <td>-0.764473</td>\n",
       "      <td>-0.899957</td>\n",
       "      <td>0.661749</td>\n",
       "      <td>-1.140196</td>\n",
       "      <td>...</td>\n",
       "      <td>0.110699</td>\n",
       "      <td>-0.126643</td>\n",
       "      <td>-0.346578</td>\n",
       "      <td>-0.005176</td>\n",
       "      <td>-0.176934</td>\n",
       "      <td>0.214295</td>\n",
       "      <td>-0.092585</td>\n",
       "      <td>-0.283471</td>\n",
       "      <td>0.583448</td>\n",
       "      <td>1</td>\n",
       "    </tr>\n",
       "    <tr>\n",
       "      <th>1525</th>\n",
       "      <td>565</td>\n",
       "      <td>0.664007</td>\n",
       "      <td>-0.156439</td>\n",
       "      <td>0.700550</td>\n",
       "      <td>0.772529</td>\n",
       "      <td>0.156021</td>\n",
       "      <td>-0.764685</td>\n",
       "      <td>-0.307415</td>\n",
       "      <td>-0.028331</td>\n",
       "      <td>0.186531</td>\n",
       "      <td>...</td>\n",
       "      <td>-0.157609</td>\n",
       "      <td>-0.453301</td>\n",
       "      <td>0.158671</td>\n",
       "      <td>0.124426</td>\n",
       "      <td>0.140865</td>\n",
       "      <td>0.234083</td>\n",
       "      <td>-0.040854</td>\n",
       "      <td>-0.005864</td>\n",
       "      <td>1.328265</td>\n",
       "      <td>1</td>\n",
       "    </tr>\n",
       "  </tbody>\n",
       "</table>\n",
       "<p>1526 rows × 31 columns</p>\n",
       "</div>"
      ],
      "text/plain": [
       "      Time        V1        V2        V3        V4        V5        V6  \\\n",
       "0        0 -1.359807 -0.072781  2.536347  1.378155 -0.338321  0.462388   \n",
       "1        0  1.191857  0.266151  0.166480  0.448154  0.060018 -0.082361   \n",
       "2        1 -1.358354 -1.340163  1.773209  0.379780 -0.503198  1.800499   \n",
       "3        1 -0.966272 -0.185226  1.792993 -0.863291 -0.010309  1.247203   \n",
       "4        2 -1.158233  0.877737  1.548718  0.403034 -0.407193  0.095921   \n",
       "...    ...       ...       ...       ...       ...       ...       ...   \n",
       "1521   145  0.312731 -0.494345  0.800036  0.638688  0.721476  0.103967   \n",
       "1522   145  0.199690  0.518887  0.419685  0.152560  0.736859  0.213810   \n",
       "1523   411 -0.700235  0.432964  1.447839  0.167270  0.933755 -0.638823   \n",
       "1524   483 -1.977535  0.843877  0.022000  1.282213  0.319618 -0.764473   \n",
       "1525   565  0.664007 -0.156439  0.700550  0.772529  0.156021 -0.764685   \n",
       "\n",
       "            V7        V8        V9  ...       V21       V22       V23  \\\n",
       "0     0.239599  0.098698  0.363787  ... -0.018307  0.277838 -0.110474   \n",
       "1    -0.078803  0.085102 -0.255425  ... -0.225775 -0.638672  0.101288   \n",
       "2     0.791461  0.247676 -1.514654  ...  0.247998  0.771679  0.909412   \n",
       "3     0.237609  0.377436 -1.387024  ... -0.108300  0.005274 -0.190321   \n",
       "4     0.592941 -0.270533  0.817739  ... -0.009431  0.798278 -0.137458   \n",
       "...        ...       ...       ...  ...       ...       ...       ...   \n",
       "1521 -0.638202  0.278761  0.078949  ... -0.047267 -0.133609  0.155413   \n",
       "1522  0.253991  0.133359 -0.137987  ... -0.139705 -0.410902  0.145401   \n",
       "1523  0.746457 -0.089232 -0.137780  ...  0.021967  0.130480 -0.164927   \n",
       "1524 -0.899957  0.661749 -1.140196  ...  0.110699 -0.126643 -0.346578   \n",
       "1525 -0.307415 -0.028331  0.186531  ... -0.157609 -0.453301  0.158671   \n",
       "\n",
       "           V24       V25       V26       V27       V28      Amount  Class  \n",
       "0     0.066928  0.128539 -0.189115  0.133558 -0.021053  149.620000      0  \n",
       "1    -0.339846  0.167170  0.125895 -0.008983  0.014724    2.690000      1  \n",
       "2    -0.689281 -0.327642 -0.139097 -0.055353 -0.059752  378.660000      0  \n",
       "3    -1.175575  0.647376 -0.221929  0.062723  0.061458  123.500000      0  \n",
       "4     0.141267 -0.206010  0.502292  0.219422  0.215153   69.990000      0  \n",
       "...        ...       ...       ...       ...       ...         ...    ...  \n",
       "1521 -0.482288  0.060739  0.328332 -0.040828 -0.036437    2.362299      1  \n",
       "1522 -1.248407 -1.213475  0.081109  0.204586  0.205860    1.181825      1  \n",
       "1523 -0.012580 -0.013863 -0.333450 -0.027966 -0.044793    0.997725      1  \n",
       "1524 -0.005176 -0.176934  0.214295 -0.092585 -0.283471    0.583448      1  \n",
       "1525  0.124426  0.140865  0.234083 -0.040854 -0.005864    1.328265      1  \n",
       "\n",
       "[1526 rows x 31 columns]"
      ]
     },
     "execution_count": 67,
     "metadata": {},
     "output_type": "execute_result"
    }
   ],
   "source": [
    "df2 = pd.concat([x, y], axis=1)\n",
    "df2"
   ]
  },
  {
   "cell_type": "markdown",
   "id": "b03ad528",
   "metadata": {},
   "source": [
    "## Generating samples"
   ]
  },
  {
   "cell_type": "code",
   "execution_count": 68,
   "id": "c249bbe1",
   "metadata": {},
   "outputs": [],
   "source": [
    "z = 1.96 \n",
    "p = 0.5\n",
    "e = 0.05 "
   ]
  },
  {
   "cell_type": "code",
   "execution_count": 69,
   "id": "b6d968fc",
   "metadata": {},
   "outputs": [],
   "source": [
    "from sklearn.preprocessing import normalize\n",
    "from imblearn.over_sampling import RandomOverSampler\n",
    "import math\n",
    "import random\n",
    "from sklearn.cluster import KMeans"
   ]
  },
  {
   "cell_type": "markdown",
   "id": "81331e4c",
   "metadata": {},
   "source": [
    "#### 1. Simple  Random Sampling"
   ]
  },
  {
   "cell_type": "code",
   "execution_count": 70,
   "id": "5f5aac4b",
   "metadata": {},
   "outputs": [
    {
     "name": "stdout",
     "output_type": "stream",
     "text": [
      "384\n"
     ]
    }
   ],
   "source": [
    "ssize_srs = (z*z*p*(1-p))/(e*e)\n",
    "ssize_srs = math.floor(ssize_srs)\n",
    "print(ssize_srs)\n",
    "def random(df, ssize_srs):\n",
    "    random_sample = df.sample(n = ssize_srs)\n",
    "    return(random_sample)\n",
    "Sample = random(df2, ssize_srs)\n",
    "\n",
    "x_ssize_srs = Sample.drop('Class', axis=1) #X_train\n",
    "y_ssize_srs = Sample['Class'] #y_train\n",
    "     "
   ]
  },
  {
   "cell_type": "markdown",
   "id": "ac6c1ebc",
   "metadata": {},
   "source": [
    "#### 2. Systematic Sampling"
   ]
  },
  {
   "cell_type": "code",
   "execution_count": 77,
   "id": "415b48a0",
   "metadata": {},
   "outputs": [],
   "source": [
    "t = 3 #interval\n",
    "ssize_systematic = df2.iloc[::interval]\n",
    "ssize_systematic\n",
    "\n",
    "x_ssize_systematic = ssize_systematic.drop('Class', axis=1) #X_train\n",
    "y_ssize_systematic = ssize_systematic['Class'] #y_train"
   ]
  },
  {
   "cell_type": "markdown",
   "id": "6d25b4ad",
   "metadata": {},
   "source": [
    "#### 3. Stratified Sampling"
   ]
  },
  {
   "cell_type": "code",
   "execution_count": 78,
   "id": "51057df7",
   "metadata": {},
   "outputs": [
    {
     "name": "stdout",
     "output_type": "stream",
     "text": [
      "384\n"
     ]
    }
   ],
   "source": [
    "s = 2 \n",
    "ssize_stratified = (z*z*p*(1-p))/(e*e/s*s)\n",
    "ssize_stratified = math.floor(ssize_srs)\n",
    "print(ssize_stratified)\n",
    "stratified = df2.groupby('Class')\n",
    "stratified_df3 = stratified.apply(lambda x: x.sample(ssize_stratified))\n",
    "stratified_df3\n",
    "x_ssize_stratified = stratified_df3.drop('Class', axis=1) #X_train\n",
    "y_ssize_stratified = stratified_df3['Class'] #y_train"
   ]
  },
  {
   "cell_type": "markdown",
   "id": "09538301",
   "metadata": {},
   "source": [
    "#### 4. Cluster Sampling"
   ]
  },
  {
   "cell_type": "code",
   "execution_count": 81,
   "id": "33c97268",
   "metadata": {},
   "outputs": [],
   "source": [
    "kmeans = KMeans(n_clusters=10, random_state=42).fit(df2)\n",
    "ssize_clustered = kmeans.labels_\n",
    "cluster = [1,3,5,6,8]\n",
    "cluster_series = pd.Series(ssize_clustered)\n",
    "cluster_df = df2[cluster_series.isin(cluster)]\n",
    "x_ssize_clustered = cluster_df.drop('Class', axis=1) #X_train\n",
    "y_ssize_clustered = cluster_df['Class'] #y_train"
   ]
  },
  {
   "cell_type": "markdown",
   "id": "401acc7e",
   "metadata": {},
   "source": [
    "#### 5. Snowball Sampling"
   ]
  },
  {
   "cell_type": "code",
   "execution_count": 114,
   "id": "25eeaa74",
   "metadata": {},
   "outputs": [],
   "source": [
    "def snowball(df, seed, n):\n",
    "    snowball_sample = pd.DataFrame(columns=df.columns)\n",
    "    snowball_sample = snowball_sample.append(df.loc[seed])\n",
    "    current_sample = [seed]\n",
    "    for i in range(n):\n",
    "        rand_index = np.random.choice(len(current_sample))\n",
    "        rand_observation = current_sample[rand_index]\n",
    "        neighbors = df.loc[df['neighbor'] == rand_observation]\n",
    "        new_neighbors = neighbors[~neighbors.index.isin(snowball_sample.index)]\n",
    "        snowball_sample = snowball_sample.append(new_neighbors)\n",
    "        current_sample.extend(new_neighbors.index.tolist())\n",
    "    return snowball_sample\n",
    "x_ssize_snowball = Sample.drop('Class', axis=1) #X_train\n",
    "y_ssize_snowball = Sample['Class'] #y_train"
   ]
  },
  {
   "cell_type": "markdown",
   "id": "1e7e3335",
   "metadata": {},
   "source": [
    "## Training the models"
   ]
  },
  {
   "cell_type": "code",
   "execution_count": 102,
   "id": "14b779d5",
   "metadata": {},
   "outputs": [],
   "source": [
    "from sklearn.metrics import accuracy_score\n",
    "from sklearn.ensemble import RandomForestClassifier\n",
    "from sklearn.neighbors import KNeighborsClassifier\n",
    "from sklearn.tree import DecisionTreeClassifier\n",
    "from sklearn.linear_model import LogisticRegression\n",
    "from sklearn.ensemble import BaggingClassifier"
   ]
  },
  {
   "cell_type": "markdown",
   "id": "63cbaf02",
   "metadata": {},
   "source": [
    "#### 1. Random Forest Classifier"
   ]
  },
  {
   "cell_type": "code",
   "execution_count": 116,
   "id": "f4ebf62d",
   "metadata": {},
   "outputs": [],
   "source": [
    "def Random_forest_classifier(x_train, y_train, x_test, y_test):\n",
    "  clf = RandomForestClassifier(n_estimators = 10)\n",
    "  clf.fit(x_train, y_train)\n",
    "  y_pred = clf.predict(x_test)\n",
    "  return accuracy_score(y_test,y_pred)"
   ]
  },
  {
   "cell_type": "markdown",
   "id": "03a722aa",
   "metadata": {},
   "source": [
    "#### 2. Bagging Classifier"
   ]
  },
  {
   "cell_type": "code",
   "execution_count": 104,
   "id": "59a8ac8d",
   "metadata": {},
   "outputs": [],
   "source": [
    "def Bagging_classifier(x_train, y_train, x_test, y_test):\n",
    "    base_classifier = DecisionTreeClassifier()\n",
    "    bagging_classifier = BaggingClassifier(base_estimator=base_classifier, n_estimators=10)\n",
    "    bagging_classifier.fit(x_train, y_train)\n",
    "    y_pred = bagging_classifier.predict(x_test)\n",
    "    return accuracy_score(y_test, y_pred)"
   ]
  },
  {
   "cell_type": "markdown",
   "id": "febab6d4",
   "metadata": {},
   "source": [
    "#### 3. Decision Tree Classifier"
   ]
  },
  {
   "cell_type": "code",
   "execution_count": 105,
   "id": "dd0e8c87",
   "metadata": {},
   "outputs": [],
   "source": [
    "def Decision_tree_classifier(x_train, y_train, x_test, y_test):\n",
    "  tree = DecisionTreeClassifier(max_depth = 2).fit(x_train, y_train)\n",
    "  tree_pred = tree.predict(x_test)\n",
    "  return accuracy_score(y_test,tree_pred)"
   ]
  },
  {
   "cell_type": "markdown",
   "id": "b5211de9",
   "metadata": {},
   "source": [
    "#### 4. Logistic Regression"
   ]
  },
  {
   "cell_type": "code",
   "execution_count": 106,
   "id": "8d1c3453",
   "metadata": {},
   "outputs": [],
   "source": [
    "def Logistic_regression(x_train, y_train, x_test, y_test):\n",
    "  clf = LogisticRegression()\n",
    "  clf.fit(x_train, y_train)\n",
    "  y_pred = clf.predict(x_test)\n",
    "  return accuracy_score(y_test,y_pred)"
   ]
  },
  {
   "cell_type": "markdown",
   "id": "b901fb6d",
   "metadata": {},
   "source": [
    "#### 5. K Neighbors Classifier"
   ]
  },
  {
   "cell_type": "code",
   "execution_count": 117,
   "id": "7e41297a",
   "metadata": {},
   "outputs": [],
   "source": [
    "def KNN(x_train, y_train, x_test, y_test):\n",
    "  knn = KNeighborsClassifier(n_neighbors = 10).fit(x_train, y_train)\n",
    "  knn_pred = knn.predict(x_test)\n",
    "  return accuracy_score(y_test,knn_pred)"
   ]
  },
  {
   "cell_type": "markdown",
   "id": "aced09d8",
   "metadata": {},
   "source": [
    "## Calculating the accuracy for each sample type using each model"
   ]
  },
  {
   "cell_type": "code",
   "execution_count": 133,
   "id": "65e31ddb",
   "metadata": {},
   "outputs": [
    {
     "name": "stderr",
     "output_type": "stream",
     "text": [
      "/Users/harshitapandey/opt/anaconda3/lib/python3.9/site-packages/sklearn/linear_model/_logistic.py:814: ConvergenceWarning: lbfgs failed to converge (status=1):\n",
      "STOP: TOTAL NO. of ITERATIONS REACHED LIMIT.\n",
      "\n",
      "Increase the number of iterations (max_iter) or scale the data as shown in:\n",
      "    https://scikit-learn.org/stable/modules/preprocessing.html\n",
      "Please also refer to the documentation for alternative solver options:\n",
      "    https://scikit-learn.org/stable/modules/linear_model.html#logistic-regression\n",
      "  n_iter_i = _check_optimize_result(\n"
     ]
    },
    {
     "data": {
      "text/plain": [
       "[99.0079365079365,\n",
       " 96.42857142857143,\n",
       " 88.29365079365078,\n",
       " 90.47619047619048,\n",
       " 73.01587301587301]"
      ]
     },
     "execution_count": 133,
     "metadata": {},
     "output_type": "execute_result"
    }
   ],
   "source": [
    "simple_random_Random_forest = Random_forest_classifier(x_ssize_srs,y_ssize_srs,x_test,y_test)\n",
    "simple_random_bagging_classifier = Bagging_classifier(x_ssize_srs,y_ssize_srs,x_test,y_test)\n",
    "simple_random_Decision_tree_classifier = Decision_tree_classifier(x_ssize_srs,y_ssize_srs,x_test,y_test)\n",
    "simple_random_logistic = Logistic(x_ssize_srs,y_ssize_srs,x_test,y_test)\n",
    "simple_random_KNN = KNN(x_ssize_srs,y_ssize_srs,x_test,y_test)\n",
    "simple_random_accuracy = [simple_random_Random_forest*100,simple_random_bagging_classifier*100,simple_random_Decision_tree_classifier*100,simple_random_logistic*100,simple_random_KNN*100]\n",
    "simple_random_accuracy"
   ]
  },
  {
   "cell_type": "code",
   "execution_count": 134,
   "id": "320ab67a",
   "metadata": {},
   "outputs": [
    {
     "name": "stderr",
     "output_type": "stream",
     "text": [
      "/Users/harshitapandey/opt/anaconda3/lib/python3.9/site-packages/sklearn/linear_model/_logistic.py:814: ConvergenceWarning: lbfgs failed to converge (status=1):\n",
      "STOP: TOTAL NO. of ITERATIONS REACHED LIMIT.\n",
      "\n",
      "Increase the number of iterations (max_iter) or scale the data as shown in:\n",
      "    https://scikit-learn.org/stable/modules/preprocessing.html\n",
      "Please also refer to the documentation for alternative solver options:\n",
      "    https://scikit-learn.org/stable/modules/linear_model.html#logistic-regression\n",
      "  n_iter_i = _check_optimize_result(\n"
     ]
    },
    {
     "data": {
      "text/plain": [
       "[99.20634920634922,\n",
       " 97.02380952380952,\n",
       " 89.0873015873016,\n",
       " 89.68253968253968,\n",
       " 77.38095238095238]"
      ]
     },
     "execution_count": 134,
     "metadata": {},
     "output_type": "execute_result"
    }
   ],
   "source": [
    "systematic_Random_forest = Random_forest_classifier(x_ssize_systematic,y_ssize_systematic,x_test,y_test)\n",
    "systematic_bagging_classifier = Bagging_classifier(x_ssize_systematic,y_ssize_systematic,x_test,y_test)\n",
    "systematic_Decision_tree_classifier = Decision_tree_classifier(x_ssize_systematic,y_ssize_systematic,x_test,y_test)\n",
    "systematic_logistic = Logistic(x_ssize_systematic,y_ssize_systematic,x_test,y_test)\n",
    "systematic_KNN = KNN(x_ssize_systematic,y_ssize_systematic,x_test,y_test)\n",
    "systematic_accuracy = [systematic_Random_forest*100,systematic_bagging_classifier*100,systematic_Decision_tree_classifier*100,systematic_logistic*100,systematic_KNN*100]\n",
    "systematic_accuracy\n"
   ]
  },
  {
   "cell_type": "code",
   "execution_count": 135,
   "id": "3268e632",
   "metadata": {},
   "outputs": [
    {
     "name": "stderr",
     "output_type": "stream",
     "text": [
      "/Users/harshitapandey/opt/anaconda3/lib/python3.9/site-packages/sklearn/linear_model/_logistic.py:814: ConvergenceWarning: lbfgs failed to converge (status=1):\n",
      "STOP: TOTAL NO. of ITERATIONS REACHED LIMIT.\n",
      "\n",
      "Increase the number of iterations (max_iter) or scale the data as shown in:\n",
      "    https://scikit-learn.org/stable/modules/preprocessing.html\n",
      "Please also refer to the documentation for alternative solver options:\n",
      "    https://scikit-learn.org/stable/modules/linear_model.html#logistic-regression\n",
      "  n_iter_i = _check_optimize_result(\n"
     ]
    },
    {
     "data": {
      "text/plain": [
       "[99.40476190476191,\n",
       " 98.80952380952381,\n",
       " 89.48412698412699,\n",
       " 92.26190476190477,\n",
       " 80.75396825396825]"
      ]
     },
     "execution_count": 135,
     "metadata": {},
     "output_type": "execute_result"
    }
   ],
   "source": [
    "stratified_Random_forest = Random_forest_classifier(x_ssize_stratified,y_ssize_stratified,x_test,y_test)\n",
    "stratified_bagging_classifier = Bagging_classifier(x_ssize_stratified,y_ssize_stratified,x_test,y_test)\n",
    "stratified_Decision_tree_classifier = Decision_tree_classifier(x_ssize_stratified,y_ssize_stratified,x_test,y_test)\n",
    "stratified_logistic = Logistic(x_ssize_stratified,y_ssize_stratified,x_test,y_test)\n",
    "stratified_KNN = KNN(x_ssize_stratified,y_ssize_stratified,x_test,y_test)\n",
    "stratified_accuracy = [stratified_Random_forest*100,stratified_bagging_classifier*100,stratified_Decision_tree_classifier*100,stratified_logistic*100,stratified_KNN*100]\n",
    "stratified_accuracy"
   ]
  },
  {
   "cell_type": "code",
   "execution_count": 136,
   "id": "99eb0f92",
   "metadata": {},
   "outputs": [
    {
     "name": "stderr",
     "output_type": "stream",
     "text": [
      "/Users/harshitapandey/opt/anaconda3/lib/python3.9/site-packages/sklearn/linear_model/_logistic.py:814: ConvergenceWarning: lbfgs failed to converge (status=1):\n",
      "STOP: TOTAL NO. of ITERATIONS REACHED LIMIT.\n",
      "\n",
      "Increase the number of iterations (max_iter) or scale the data as shown in:\n",
      "    https://scikit-learn.org/stable/modules/preprocessing.html\n",
      "Please also refer to the documentation for alternative solver options:\n",
      "    https://scikit-learn.org/stable/modules/linear_model.html#logistic-regression\n",
      "  n_iter_i = _check_optimize_result(\n"
     ]
    },
    {
     "data": {
      "text/plain": [
       "[98.80952380952381,\n",
       " 99.40476190476191,\n",
       " 89.0873015873016,\n",
       " 89.0873015873016,\n",
       " 83.73015873015873]"
      ]
     },
     "execution_count": 136,
     "metadata": {},
     "output_type": "execute_result"
    }
   ],
   "source": [
    "clustered_Random_forest = Random_forest_classifier(x_ssize_clustered,y_ssize_clustered,x_test,y_test)\n",
    "clustered_bagging_classifier = Bagging_classifier(x_ssize_clustered,y_ssize_clustered,x_test,y_test)\n",
    "clustered_Decision_tree_classifier = Decision_tree_classifier(x_ssize_clustered,y_ssize_clustered,x_test,y_test)\n",
    "clustered_logistic = Logistic(x_ssize_clustered,y_ssize_clustered,x_test,y_test)\n",
    "clustered_KNN = KNN(x_ssize_clustered,y_ssize_clustered,x_test,y_test)\n",
    "clustered_accuracy = [clustered_Random_forest*100,clustered_bagging_classifier*100,clustered_Decision_tree_classifier*100,clustered_logistic*100,clustered_KNN*100]\n",
    "clustered_accuracy\n",
    "     "
   ]
  },
  {
   "cell_type": "code",
   "execution_count": 137,
   "id": "738788fc",
   "metadata": {},
   "outputs": [
    {
     "name": "stderr",
     "output_type": "stream",
     "text": [
      "/Users/harshitapandey/opt/anaconda3/lib/python3.9/site-packages/sklearn/linear_model/_logistic.py:814: ConvergenceWarning: lbfgs failed to converge (status=1):\n",
      "STOP: TOTAL NO. of ITERATIONS REACHED LIMIT.\n",
      "\n",
      "Increase the number of iterations (max_iter) or scale the data as shown in:\n",
      "    https://scikit-learn.org/stable/modules/preprocessing.html\n",
      "Please also refer to the documentation for alternative solver options:\n",
      "    https://scikit-learn.org/stable/modules/linear_model.html#logistic-regression\n",
      "  n_iter_i = _check_optimize_result(\n"
     ]
    },
    {
     "data": {
      "text/plain": [
       "[98.21428571428571,\n",
       " 97.02380952380952,\n",
       " 88.29365079365078,\n",
       " 90.47619047619048,\n",
       " 73.01587301587301]"
      ]
     },
     "execution_count": 137,
     "metadata": {},
     "output_type": "execute_result"
    }
   ],
   "source": [
    "snowball_Random_forest = Random_forest_classifier(x_ssize_snowball,y_ssize_snowball,x_test,y_test)\n",
    "snowball_bagging_classifier = Bagging_classifier(x_ssize_snowball,y_ssize_snowball,x_test,y_test)\n",
    "snowball_Decision_tree_classifier = Decision_tree_classifier(x_ssize_snowball,y_ssize_snowball,x_test,y_test)\n",
    "snowball_logistic = Logistic(x_ssize_snowball,y_ssize_snowball,x_test,y_test)\n",
    "snowball_KNN = KNN(x_ssize_snowball,y_ssize_snowball,x_test,y_test)\n",
    "snowball_accuracy = [snowball_Random_forest*100,snowball_bagging_classifier*100,snowball_Decision_tree_classifier*100,snowball_logistic*100,snowball_KNN*100]\n",
    "snowball_accuracy"
   ]
  },
  {
   "cell_type": "markdown",
   "id": "ba34575b",
   "metadata": {},
   "source": [
    "## Combining the results"
   ]
  },
  {
   "cell_type": "code",
   "execution_count": 148,
   "id": "823f1839",
   "metadata": {},
   "outputs": [
    {
     "data": {
      "text/html": [
       "<div>\n",
       "<style scoped>\n",
       "    .dataframe tbody tr th:only-of-type {\n",
       "        vertical-align: middle;\n",
       "    }\n",
       "\n",
       "    .dataframe tbody tr th {\n",
       "        vertical-align: top;\n",
       "    }\n",
       "\n",
       "    .dataframe thead th {\n",
       "        text-align: right;\n",
       "    }\n",
       "</style>\n",
       "<table border=\"1\" class=\"dataframe\">\n",
       "  <thead>\n",
       "    <tr style=\"text-align: right;\">\n",
       "      <th></th>\n",
       "      <th>ML Model</th>\n",
       "      <th>Simple Random Sampling(%age)</th>\n",
       "      <th>Stratified Sampling(%age)</th>\n",
       "      <th>Cluster Sampling(%age)</th>\n",
       "      <th>Systematic Sampling(%age)</th>\n",
       "      <th>Snowball Sampling(%age)</th>\n",
       "    </tr>\n",
       "  </thead>\n",
       "  <tbody>\n",
       "    <tr>\n",
       "      <th>0</th>\n",
       "      <td>Random Forest</td>\n",
       "      <td>99.007937</td>\n",
       "      <td>99.404762</td>\n",
       "      <td>98.809524</td>\n",
       "      <td>99.206349</td>\n",
       "      <td>98.214286</td>\n",
       "    </tr>\n",
       "    <tr>\n",
       "      <th>1</th>\n",
       "      <td>Bagging</td>\n",
       "      <td>96.428571</td>\n",
       "      <td>98.809524</td>\n",
       "      <td>99.404762</td>\n",
       "      <td>97.023810</td>\n",
       "      <td>97.023810</td>\n",
       "    </tr>\n",
       "    <tr>\n",
       "      <th>2</th>\n",
       "      <td>Decision Tree</td>\n",
       "      <td>88.293651</td>\n",
       "      <td>89.484127</td>\n",
       "      <td>89.087302</td>\n",
       "      <td>89.087302</td>\n",
       "      <td>88.293651</td>\n",
       "    </tr>\n",
       "    <tr>\n",
       "      <th>3</th>\n",
       "      <td>Logistic Regression</td>\n",
       "      <td>90.476190</td>\n",
       "      <td>92.261905</td>\n",
       "      <td>89.087302</td>\n",
       "      <td>89.682540</td>\n",
       "      <td>90.476190</td>\n",
       "    </tr>\n",
       "    <tr>\n",
       "      <th>4</th>\n",
       "      <td>KNN</td>\n",
       "      <td>73.015873</td>\n",
       "      <td>80.753968</td>\n",
       "      <td>83.730159</td>\n",
       "      <td>77.380952</td>\n",
       "      <td>73.015873</td>\n",
       "    </tr>\n",
       "  </tbody>\n",
       "</table>\n",
       "</div>"
      ],
      "text/plain": [
       "              ML Model  Simple Random Sampling(%age)  \\\n",
       "0        Random Forest                     99.007937   \n",
       "1              Bagging                     96.428571   \n",
       "2        Decision Tree                     88.293651   \n",
       "3  Logistic Regression                     90.476190   \n",
       "4                  KNN                     73.015873   \n",
       "\n",
       "   Stratified Sampling(%age)  Cluster Sampling(%age)  \\\n",
       "0                  99.404762               98.809524   \n",
       "1                  98.809524               99.404762   \n",
       "2                  89.484127               89.087302   \n",
       "3                  92.261905               89.087302   \n",
       "4                  80.753968               83.730159   \n",
       "\n",
       "   Systematic Sampling(%age)  Snowball Sampling(%age)  \n",
       "0                  99.206349                98.214286  \n",
       "1                  97.023810                97.023810  \n",
       "2                  89.087302                88.293651  \n",
       "3                  89.682540                90.476190  \n",
       "4                  77.380952                73.015873  "
      ]
     },
     "execution_count": 148,
     "metadata": {},
     "output_type": "execute_result"
    }
   ],
   "source": [
    "final_accuracy = {\n",
    "    'ML Model' : ['Random Forest','Bagging','Decision Tree','Logistic Regression','KNN'],\n",
    "    'Simple Random Sampling(%age)' : simple_random_accuracy,\n",
    "    'Stratified Sampling(%age)' : stratified_accuracy,\n",
    "    'Cluster Sampling(%age)' : clustered_accuracy,\n",
    "    'Systematic Sampling(%age)' : systematic_accuracy,\n",
    "    'Snowball Sampling(%age)' : snowball_accuracy\n",
    "}\n",
    "\n",
    "final_accuracy_df = pd.DataFrame(final_accuracy)\n",
    "final_accuracy_df"
   ]
  }
 ],
 "metadata": {
  "kernelspec": {
   "display_name": "Python 3 (ipykernel)",
   "language": "python",
   "name": "python3"
  },
  "language_info": {
   "codemirror_mode": {
    "name": "ipython",
    "version": 3
   },
   "file_extension": ".py",
   "mimetype": "text/x-python",
   "name": "python",
   "nbconvert_exporter": "python",
   "pygments_lexer": "ipython3",
   "version": "3.9.12"
  }
 },
 "nbformat": 4,
 "nbformat_minor": 5
}
